{
 "cells": [
  {
   "cell_type": "code",
   "execution_count": 4,
   "metadata": {},
   "outputs": [],
   "source": [
    "import fasttext"
   ]
  },
  {
   "cell_type": "code",
   "execution_count": 5,
   "metadata": {},
   "outputs": [
    {
     "name": "stderr",
     "output_type": "stream",
     "text": [
      "Read 106M words\n",
      "Number of words:  1678141\n",
      "Number of labels: 2\n",
      "Progress: 100.0% words/sec/thread: 1741444 lr:  0.000000 avg.loss:  0.210908 ETA:   0h 0m 0s 0.322349 avg.loss:  0.248165 ETA:   0h 2m13s 36.2% words/sec/thread: 1720001 lr:  0.319022 avg.loss:  0.249599 ETA:   0h 2m11s 0.223046 ETA:   0h 1m10s\n"
     ]
    }
   ],
   "source": [
    "model = fasttext.train_supervised('datasets/train.csv', epoch=10, lr=0.5)"
   ]
  },
  {
   "cell_type": "code",
   "execution_count": 6,
   "metadata": {},
   "outputs": [],
   "source": [
    "model.quantize(input='datasets/train.csv', retrain=True)"
   ]
  },
  {
   "cell_type": "code",
   "execution_count": 7,
   "metadata": {},
   "outputs": [],
   "source": [
    "model.save_model(\"models/fasttext-new.ftz\")"
   ]
  }
 ],
 "metadata": {
  "kernelspec": {
   "display_name": "sentiment-analysis",
   "language": "python",
   "name": "sentiment-analysis"
  },
  "language_info": {
   "codemirror_mode": {
    "name": "ipython",
    "version": 3
   },
   "file_extension": ".py",
   "mimetype": "text/x-python",
   "name": "python",
   "nbconvert_exporter": "python",
   "pygments_lexer": "ipython3",
   "version": "3.8.0"
  }
 },
 "nbformat": 4,
 "nbformat_minor": 4
}
